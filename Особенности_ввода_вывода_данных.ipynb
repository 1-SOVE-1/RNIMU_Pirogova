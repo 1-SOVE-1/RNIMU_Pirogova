{
  "nbformat": 4,
  "nbformat_minor": 0,
  "metadata": {
    "colab": {
      "provenance": [],
      "authorship_tag": "ABX9TyMIxf443pM8e6LSmQAt46oK",
      "include_colab_link": true
    },
    "kernelspec": {
      "name": "python3",
      "display_name": "Python 3"
    },
    "language_info": {
      "name": "python"
    }
  },
  "cells": [
    {
      "cell_type": "markdown",
      "metadata": {
        "id": "view-in-github",
        "colab_type": "text"
      },
      "source": [
        "<a href=\"https://colab.research.google.com/github/Vakhranev/RNIMU_Pirogova/blob/main/%D0%9E%D1%81%D0%BE%D0%B1%D0%B5%D0%BD%D0%BD%D0%BE%D1%81%D1%82%D0%B8_%D0%B2%D0%B2%D0%BE%D0%B4%D0%B0_%D0%B2%D1%8B%D0%B2%D0%BE%D0%B4%D0%B0_%D0%B4%D0%B0%D0%BD%D0%BD%D1%8B%D1%85.ipynb\" target=\"_parent\"><img src=\"https://colab.research.google.com/assets/colab-badge.svg\" alt=\"Open In Colab\"/></a>"
      ]
    },
    {
      "cell_type": "code",
      "execution_count": 1,
      "metadata": {
        "colab": {
          "base_uri": "https://localhost:8080/"
        },
        "id": "xBR94RWB6Ds5",
        "outputId": "b0a10fcd-ee48-4b9c-dfde-cd67820bd686"
      },
      "outputs": [
        {
          "output_type": "stream",
          "name": "stdout",
          "text": [
            "1032\n",
            "2.34\n",
            "Hello\n"
          ]
        }
      ],
      "source": [
        "print(1032)\n",
        "print(2.34)\n",
        "print(\"Hello\")"
      ]
    },
    {
      "cell_type": "markdown",
      "source": [
        "Кроме того, что в скобках могут быть любые типы данных, количество данных может быть различным:"
      ],
      "metadata": {
        "id": "od_pl2nX7Cnm"
      }
    },
    {
      "cell_type": "code",
      "source": [
        "print(\"a:\", 1)\n",
        "one = 1\n",
        "two = 2\n",
        "three = 3\n",
        "print(one, two, three)"
      ],
      "metadata": {
        "colab": {
          "base_uri": "https://localhost:8080/"
        },
        "id": "sVX0_OXm7Jn1",
        "outputId": "924bd500-db6f-4711-f515-ed89e07b3d3f"
      },
      "execution_count": 2,
      "outputs": [
        {
          "output_type": "stream",
          "name": "stdout",
          "text": [
            "a: 1\n",
            "1 2 3\n"
          ]
        }
      ]
    },
    {
      "cell_type": "markdown",
      "source": [
        "Если в скобках стоит выражение, то сначала оно выполняется, после чего print() уже выводит результат данного выражения:"
      ],
      "metadata": {
        "id": "JZu_2CL07m9w"
      }
    },
    {
      "cell_type": "code",
      "source": [
        "print(\"hello\" + \" \" + \"world\")\n",
        "print(10 - 2.5/2)"
      ],
      "metadata": {
        "colab": {
          "base_uri": "https://localhost:8080/"
        },
        "id": "ZMxkKWnT7ny8",
        "outputId": "2cbc19e3-1ad0-4166-cf25-6720dbc09025"
      },
      "execution_count": 3,
      "outputs": [
        {
          "output_type": "stream",
          "name": "stdout",
          "text": [
            "hello world\n",
            "8.75\n"
          ]
        }
      ]
    },
    {
      "cell_type": "markdown",
      "source": [
        "Через параметр sep можно указать отличный от пробела разделитель строк:"
      ],
      "metadata": {
        "id": "LoQ_r9mB733_"
      }
    },
    {
      "cell_type": "code",
      "source": [
        "print(\"Mon\", \"Tue\", \"Wed\", \"Thu\",\n",
        "... \"Fri\", \"Sat\", \"Sun\", sep=\"-\")\n",
        "print(1, 2, 3, sep=\"//\")"
      ],
      "metadata": {
        "colab": {
          "base_uri": "https://localhost:8080/"
        },
        "id": "KJSU2NwP75No",
        "outputId": "41a9f121-e908-4465-cacb-91217b0dee4a"
      },
      "execution_count": 4,
      "outputs": [
        {
          "output_type": "stream",
          "name": "stdout",
          "text": [
            "Mon-Tue-Wed-Thu-Fri-Sat-Sun\n",
            "1//2//3\n"
          ]
        }
      ]
    },
    {
      "cell_type": "markdown",
      "source": [
        "Переход на новую строку можно отменить, указав любой другой символ или строку:"
      ],
      "metadata": {
        "id": "tOZK5DAd9dNA"
      }
    },
    {
      "cell_type": "code",
      "source": [
        "print(10, end=\"\")"
      ],
      "metadata": {
        "colab": {
          "base_uri": "https://localhost:8080/"
        },
        "id": "R6UwgHuM9qWI",
        "outputId": "35a21908-f6d6-484d-a326-46d039837493"
      },
      "execution_count": 5,
      "outputs": [
        {
          "output_type": "stream",
          "name": "stdout",
          "text": [
            "10"
          ]
        }
      ]
    },
    {
      "cell_type": "markdown",
      "source": [
        "Если присвоить значение '\\n' параметру end, то никаких изменений в работе функции print вы не увидите, так как это значение и так присвоено по-умолчанию:"
      ],
      "metadata": {
        "id": "WwtsDTwE-IDH"
      }
    },
    {
      "cell_type": "code",
      "source": [
        "print(10, end='\\n')"
      ],
      "metadata": {
        "colab": {
          "base_uri": "https://localhost:8080/"
        },
        "id": "WvIFBWCl-SLE",
        "outputId": "a6dae842-126b-4cf6-90d3-39ff15b2b158"
      },
      "execution_count": 6,
      "outputs": [
        {
          "output_type": "stream",
          "name": "stdout",
          "text": [
            "10\n"
          ]
        }
      ]
    },
    {
      "cell_type": "markdown",
      "source": [
        "Однако, если надо отступить на одну дополнительную строку после вывода, то можно сделать так:"
      ],
      "metadata": {
        "id": "rTmsCHHc-iaJ"
      }
    },
    {
      "cell_type": "code",
      "source": [
        "print(10, end='\\n\\n')"
      ],
      "metadata": {
        "colab": {
          "base_uri": "https://localhost:8080/"
        },
        "id": "wUAMk3LV-jzg",
        "outputId": "9c511ebf-99af-4eec-882a-fcca0f61a02b"
      },
      "execution_count": 7,
      "outputs": [
        {
          "output_type": "stream",
          "name": "stdout",
          "text": [
            "10\n",
            "\n"
          ]
        }
      ]
    },
    {
      "cell_type": "markdown",
      "source": [
        "Рассмотрим пример:"
      ],
      "metadata": {
        "id": "tR4JFl99-8yK"
      }
    },
    {
      "cell_type": "code",
      "source": [
        "pupil = \"Ben\"\n",
        "old = 16\n",
        "grade = 9.2\n",
        "print(\"It's %s, %d. Level: %f\" % (pupil, old, grade))"
      ],
      "metadata": {
        "colab": {
          "base_uri": "https://localhost:8080/"
        },
        "id": "DuM7rtpL-9Zw",
        "outputId": "aa8f3089-8ff8-4055-ecb5-4307094ca512"
      },
      "execution_count": 9,
      "outputs": [
        {
          "output_type": "stream",
          "name": "stdout",
          "text": [
            "It's Ben, 16. Level: 9.200000\n"
          ]
        }
      ]
    },
    {
      "cell_type": "markdown",
      "source": [
        "Чтобы указать, сколько требуется знаков после запятой, надо перед f поставить точку, после нее указать желаемое количество знаков в дробной части:"
      ],
      "metadata": {
        "id": "LRhc8jG5_qag"
      }
    },
    {
      "cell_type": "code",
      "source": [
        "print(\"It's %s, %d. Level: %.1f\"\n",
        "...  % (pupil, old, grade))"
      ],
      "metadata": {
        "colab": {
          "base_uri": "https://localhost:8080/"
        },
        "id": "BzqM0Hel_ram",
        "outputId": "6e001a12-7fb7-47ab-8f11-0a1a2509ba0e"
      },
      "execution_count": 10,
      "outputs": [
        {
          "output_type": "stream",
          "name": "stdout",
          "text": [
            "It's Ben, 16. Level: 9.2\n"
          ]
        }
      ]
    },
    {
      "cell_type": "markdown",
      "source": [
        "Теперь посмотрим на метод format():"
      ],
      "metadata": {
        "id": "wdcJd-ac_5bj"
      }
    },
    {
      "cell_type": "code",
      "source": [
        "print(\"This is a {0}. It's {1}.\"\n",
        "... .format(\"ball\", \"red\"))\n",
        "print(\"This is a {0}. It's {1}.\"\n",
        "... .format(\"cat\", \"white\"))\n",
        "print(\"This is a {0}. It's {1} {2}.\"\n",
        "... .format(1, \"a\", \"number\"))"
      ],
      "metadata": {
        "colab": {
          "base_uri": "https://localhost:8080/"
        },
        "id": "obGiWp5T_6Bw",
        "outputId": "2fa0cdbe-1c12-45c4-9957-42480aff43b5"
      },
      "execution_count": 11,
      "outputs": [
        {
          "output_type": "stream",
          "name": "stdout",
          "text": [
            "This is a ball. It's red.\n",
            "This is a cat. It's white.\n",
            "This is a 1. It's a number.\n"
          ]
        }
      ]
    },
    {
      "cell_type": "code",
      "source": [
        "a = 10\n",
        "b = 1.33\n",
        "c = 'Box'\n",
        "print(f'qty - {a:5}, goods - {c}')\n",
        "print(f'price - {b + 0.2:.1f}')"
      ],
      "metadata": {
        "colab": {
          "base_uri": "https://localhost:8080/"
        },
        "id": "RDinegPJAt8f",
        "outputId": "63ae1e08-2168-4b2a-b9c5-4dc8cc811f29"
      },
      "execution_count": 13,
      "outputs": [
        {
          "output_type": "stream",
          "name": "stdout",
          "text": [
            "qty -    10, goods - Box\n",
            "price - 1.5\n"
          ]
        }
      ]
    },
    {
      "cell_type": "markdown",
      "source": [
        "Если вы что-то ввели, это сразу же отобразиться на экране:"
      ],
      "metadata": {
        "id": "ADBwG1kBCDvs"
      }
    },
    {
      "cell_type": "code",
      "source": [
        "input()"
      ],
      "metadata": {
        "colab": {
          "base_uri": "https://localhost:8080/",
          "height": 53
        },
        "id": "fnJpVZV1CEz8",
        "outputId": "fcd14cdc-0f8f-4dfa-94ef-7fce3318827b"
      },
      "execution_count": 14,
      "outputs": [
        {
          "name": "stdout",
          "output_type": "stream",
          "text": [
            "Yes!\n"
          ]
        },
        {
          "output_type": "execute_result",
          "data": {
            "text/plain": [
              "'Yes!'"
            ],
            "application/vnd.google.colaboratory.intrinsic+json": {
              "type": "string"
            }
          },
          "metadata": {},
          "execution_count": 14
        }
      ]
    },
    {
      "cell_type": "markdown",
      "source": [
        "В случае присвоения данных переменной интерпретатор не выводит строку сразу же:"
      ],
      "metadata": {
        "id": "KLR9SR1LCTRQ"
      }
    },
    {
      "cell_type": "code",
      "source": [
        "answer = input()"
      ],
      "metadata": {
        "colab": {
          "base_uri": "https://localhost:8080/"
        },
        "id": "afR410JxCXpV",
        "outputId": "ae690fce-4b90-4a50-a52f-f3b0ddb4dad9"
      },
      "execution_count": 16,
      "outputs": [
        {
          "name": "stdout",
          "output_type": "stream",
          "text": [
            "No, it is not.\n"
          ]
        }
      ]
    },
    {
      "cell_type": "markdown",
      "source": [
        "В данном случае строка сохраняется в переменной answer, и при желании мы можем вывести ее значение на экран:"
      ],
      "metadata": {
        "id": "BgWwY6jBCnPp"
      }
    },
    {
      "cell_type": "code",
      "source": [
        "answer"
      ],
      "metadata": {
        "colab": {
          "base_uri": "https://localhost:8080/",
          "height": 35
        },
        "id": "EdxjC_2yCqc3",
        "outputId": "40f304ab-83eb-43cc-85fc-5f1bd44d5c16"
      },
      "execution_count": 17,
      "outputs": [
        {
          "output_type": "execute_result",
          "data": {
            "text/plain": [
              "'No, it is not.'"
            ],
            "application/vnd.google.colaboratory.intrinsic+json": {
              "type": "string"
            }
          },
          "metadata": {},
          "execution_count": 17
        }
      ]
    },
    {
      "cell_type": "markdown",
      "source": [
        "При использовании функции print() кавычки в выводе опускаются:"
      ],
      "metadata": {
        "id": "6WIZUpemC1ez"
      }
    },
    {
      "cell_type": "code",
      "source": [
        "print(answer)"
      ],
      "metadata": {
        "colab": {
          "base_uri": "https://localhost:8080/"
        },
        "id": "Ecc75e35C0gF",
        "outputId": "80a15c2e-f949-4dbe-986c-a2551571c147"
      },
      "execution_count": 18,
      "outputs": [
        {
          "output_type": "stream",
          "name": "stdout",
          "text": [
            "No, it is not.\n"
          ]
        }
      ]
    },
    {
      "cell_type": "markdown",
      "source": [
        "Рассмотрим такую программу:"
      ],
      "metadata": {
        "id": "qe6qW7U8DBaj"
      }
    },
    {
      "cell_type": "code",
      "source": [
        "name_user = input()\n",
        "city_user = input()\n",
        "print(f'Вас зовут {name_user}. Ваш город {city_user}')"
      ],
      "metadata": {
        "colab": {
          "base_uri": "https://localhost:8080/"
        },
        "id": "qO0b9KJODCJC",
        "outputId": "f4dcde3c-58c8-4db5-c5a5-b1ac0b0e3cb3"
      },
      "execution_count": 19,
      "outputs": [
        {
          "output_type": "stream",
          "name": "stdout",
          "text": [
            "Серый\n",
            "Белый\n",
            "Вас зовут Серый. Ваш город Белый\n"
          ]
        }
      ]
    },
    {
      "cell_type": "markdown",
      "source": [
        "Усовершенствованная программа может выглядеть так:"
      ],
      "metadata": {
        "id": "ODIn6ISqDr7m"
      }
    },
    {
      "cell_type": "code",
      "source": [
        "name_user = input('Ваше имя: ')\n",
        "city_user = input('Ваш город: ')\n",
        "print(f'Вас зовут {name_user}. Ваш город {city_user}')"
      ],
      "metadata": {
        "colab": {
          "base_uri": "https://localhost:8080/"
        },
        "id": "cIkPPUojDsYs",
        "outputId": "adb2f288-8943-43b5-e5bb-1c4e7b9e391f"
      },
      "execution_count": 20,
      "outputs": [
        {
          "output_type": "stream",
          "name": "stdout",
          "text": [
            "Ваше имя: Антон\n",
            "Ваш город: Москва\n",
            "Вас зовут Антон. Ваш город Москва\n"
          ]
        }
      ]
    },
    {
      "cell_type": "code",
      "source": [
        "qty = input(\"Сколько апельсинов? \")\n",
        "price = input(\"Цена одного? \")\n",
        "\n",
        "qty = int(qty)\n",
        "price = float(price)\n",
        " \n",
        "summa = qty * price\n",
        " \n",
        "print(\"Заплатите\", summa, \"руб.\")"
      ],
      "metadata": {
        "colab": {
          "base_uri": "https://localhost:8080/"
        },
        "id": "FTPmHOTzEGLR",
        "outputId": "768c6411-5629-4680-a369-3438c9bd97cc"
      },
      "execution_count": 21,
      "outputs": [
        {
          "output_type": "stream",
          "name": "stdout",
          "text": [
            "Сколько апельсинов? 5\n",
            "Цена одного? 21.50\n",
            "Заплатите 107.5 руб.\n"
          ]
        }
      ]
    },
    {
      "cell_type": "markdown",
      "source": [
        "Программный код можно сократить, если преобразование типов выполнить в тех же строках кода, где вызывается функция input():"
      ],
      "metadata": {
        "id": "Byh-PC5xEzrx"
      }
    },
    {
      "cell_type": "code",
      "source": [
        "qty = int(input(\"Сколько апельсинов? \"))\n",
        "price = float(input(\"Цена одного? \"))\n",
        " \n",
        "summa = qty * price\n",
        " \n",
        "print(\"Заплатите\", summa, \"руб.\")"
      ],
      "metadata": {
        "id": "k9iUa_59E0vw"
      },
      "execution_count": null,
      "outputs": []
    }
  ]
}